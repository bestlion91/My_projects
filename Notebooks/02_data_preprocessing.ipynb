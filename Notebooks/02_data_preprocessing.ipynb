{
 "cells": [
  {
   "cell_type": "markdown",
   "id": "f506fcba",
   "metadata": {},
   "source": [
    "# Data Preprocessing\n"
   ]
  },
  {
   "cell_type": "code",
   "execution_count": 207,
   "id": "d714b3b9",
   "metadata": {},
   "outputs": [],
   "source": [
    "import pandas as pd\n",
    "import os"
   ]
  },
  {
   "cell_type": "code",
   "execution_count": 208,
   "id": "fa794e22",
   "metadata": {},
   "outputs": [],
   "source": [
    "datasetim=\"C:/Users/aaa/OneDrive/Desktop/Modular_Project_3/Data/Raw/synthetic_dna_dataset.csv\"\n",
    "df=pd.read_csv(datasetim)"
   ]
  },
  {
   "cell_type": "code",
   "execution_count": 209,
   "id": "f8a80ce9",
   "metadata": {},
   "outputs": [
    {
     "name": "stdout",
     "output_type": "stream",
     "text": [
      "<class 'pandas.core.frame.DataFrame'>\n",
      "RangeIndex: 3000 entries, 0 to 2999\n",
      "Data columns (total 13 columns):\n",
      " #   Column           Non-Null Count  Dtype  \n",
      "---  ------           --------------  -----  \n",
      " 0   Sample_ID        3000 non-null   object \n",
      " 1   Sequence         3000 non-null   object \n",
      " 2   GC_Content       3000 non-null   float64\n",
      " 3   AT_Content       3000 non-null   float64\n",
      " 4   Sequence_Length  3000 non-null   int64  \n",
      " 5   Num_A            3000 non-null   int64  \n",
      " 6   Num_T            3000 non-null   int64  \n",
      " 7   Num_C            3000 non-null   int64  \n",
      " 8   Num_G            3000 non-null   int64  \n",
      " 9   kmer_3_freq      3000 non-null   float64\n",
      " 10  Mutation_Flag    3000 non-null   int64  \n",
      " 11  Class_Label      3000 non-null   object \n",
      " 12  Disease_Risk     3000 non-null   object \n",
      "dtypes: float64(3), int64(6), object(4)\n",
      "memory usage: 304.8+ KB\n"
     ]
    }
   ],
   "source": [
    "df.info()"
   ]
  },
  {
   "cell_type": "code",
   "execution_count": 210,
   "id": "860ca027",
   "metadata": {},
   "outputs": [],
   "source": [
    "from sklearn.preprocessing import LabelEncoder, MinMaxScaler\n",
    "import pandas as pd\n",
    "\n",
    "class Datapreprocessing:\n",
    "    def __init__(self, df):\n",
    "        self.df = df.copy()\n",
    "        self.encoder = LabelEncoder()\n",
    "        self.scaler = MinMaxScaler()   \n",
    "\n",
    "    def tozala(self):\n",
    "        for col in self.df.columns:\n",
    "            if self.df[col].isnull().any():\n",
    "                if self.df[col].dtype == 'object':\n",
    "                    self.df[col] = self.df[col].fillna(self.df[col].mode()[0])\n",
    "                else:\n",
    "                    self.df[col] = self.df[col].fillna(self.df[col].mean())\n",
    "        return self\n",
    "\n",
    "    def encodla(self, target_col='Disease_Risk'):\n",
    "        for col in self.df.columns:\n",
    "            if col == target_col:   # targetni tashlab qo'yish\n",
    "                continue\n",
    "            if self.df[col].dtype == 'object':\n",
    "                if self.df[col].nunique() <= 5:   # kam kategoriyalar -> One-Hot\n",
    "                    dummies = pd.get_dummies(self.df[col], prefix=col, dtype=int)\n",
    "                    self.df = pd.concat([self.df.drop(columns=[col]), dummies], axis=1)\n",
    "                else:   # ko'p kategoriyalar -> LabelEncoder\n",
    "                    self.df[col] = self.encoder.fit_transform(self.df[col])\n",
    "        return self\n",
    "\n",
    "    def scale_qil(self, target_col='Disease_Risk'):\n",
    "        num_cols = self.df.select_dtypes(include=['int64', 'float64']).columns\n",
    "        self.df[num_cols] = self.scaler.fit_transform(self.df[num_cols])\n",
    "        return self\n"
   ]
  },
  {
   "cell_type": "code",
   "execution_count": 211,
   "id": "c3d049da",
   "metadata": {},
   "outputs": [
    {
     "name": "stdout",
     "output_type": "stream",
     "text": [
      "      Sample_ID  Sequence  GC_Content  AT_Content  Sequence_Length     Num_A  \\\n",
      "0      0.000000  0.497499     0.50000     0.50000              0.0  0.379310   \n",
      "1      0.370457  0.968323     0.34375     0.65625              0.0  0.551724   \n",
      "2      0.740914  0.600867     0.53125     0.46875              0.0  0.517241   \n",
      "3      0.778259  0.111370     0.65625     0.34375              0.0  0.586207   \n",
      "4      0.815272  0.951651     0.37500     0.62500              0.0  0.448276   \n",
      "...         ...       ...         ...         ...              ...       ...   \n",
      "2995   0.739580  0.552184     0.37500     0.62500              0.0  0.655172   \n",
      "2996   0.739913  0.934311     0.46875     0.53125              0.0  0.586207   \n",
      "2997   0.740247  0.517506     0.59375     0.40625              0.0  0.344828   \n",
      "2998   0.740580  0.310437     0.37500     0.62500              0.0  0.517241   \n",
      "2999   0.741914  0.358786     0.37500     0.62500              0.0  0.758621   \n",
      "\n",
      "         Num_T    Num_C     Num_G  kmer_3_freq  Mutation_Flag Disease_Risk  \\\n",
      "0     0.575758  0.28125  0.633333     0.984444            0.0         High   \n",
      "1     0.575758  0.37500  0.366667     0.428889            1.0       Medium   \n",
      "2     0.424242  0.62500  0.300000     0.296667            1.0          Low   \n",
      "3     0.242424  0.40625  0.666667     0.337778            0.0       Medium   \n",
      "4     0.636364  0.46875  0.300000     0.797778            0.0         High   \n",
      "...        ...      ...       ...          ...            ...          ...   \n",
      "2995  0.454545  0.53125  0.233333     0.762222            1.0       Medium   \n",
      "2996  0.424242  0.43750  0.433333     0.812222            0.0       Medium   \n",
      "2997  0.515152  0.62500  0.366667     0.044444            0.0       Medium   \n",
      "2998  0.575758  0.46875  0.300000     0.650000            0.0       Medium   \n",
      "2999  0.363636  0.59375  0.166667     0.684444            0.0         High   \n",
      "\n",
      "      Class_Label_Bacteria  Class_Label_Human  Class_Label_Plant  \\\n",
      "0                      1.0                0.0                0.0   \n",
      "1                      0.0                0.0                0.0   \n",
      "2                      1.0                0.0                0.0   \n",
      "3                      0.0                1.0                0.0   \n",
      "4                      0.0                1.0                0.0   \n",
      "...                    ...                ...                ...   \n",
      "2995                   0.0                0.0                1.0   \n",
      "2996                   0.0                0.0                1.0   \n",
      "2997                   0.0                0.0                0.0   \n",
      "2998                   0.0                0.0                1.0   \n",
      "2999                   0.0                0.0                1.0   \n",
      "\n",
      "      Class_Label_Virus  \n",
      "0                   0.0  \n",
      "1                   1.0  \n",
      "2                   0.0  \n",
      "3                   0.0  \n",
      "4                   0.0  \n",
      "...                 ...  \n",
      "2995                0.0  \n",
      "2996                0.0  \n",
      "2997                1.0  \n",
      "2998                0.0  \n",
      "2999                0.0  \n",
      "\n",
      "[3000 rows x 16 columns]\n"
     ]
    }
   ],
   "source": [
    "processor = Datapreprocessing(df)\n",
    "\n",
    "df_ready = (\n",
    "    processor\n",
    "    .tozala()\n",
    "    .encodla()\n",
    "    .scale_qil()\n",
    "    .df\n",
    ")\n",
    "print(df_ready)"
   ]
  },
  {
   "cell_type": "code",
   "execution_count": 212,
   "id": "54c99cdf",
   "metadata": {},
   "outputs": [],
   "source": [
    "df=df_ready"
   ]
  },
  {
   "cell_type": "code",
   "execution_count": 213,
   "id": "b57d54e2",
   "metadata": {},
   "outputs": [
    {
     "name": "stdout",
     "output_type": "stream",
     "text": [
      "<class 'pandas.core.frame.DataFrame'>\n",
      "RangeIndex: 3000 entries, 0 to 2999\n",
      "Data columns (total 16 columns):\n",
      " #   Column                Non-Null Count  Dtype  \n",
      "---  ------                --------------  -----  \n",
      " 0   Sample_ID             3000 non-null   float64\n",
      " 1   Sequence              3000 non-null   float64\n",
      " 2   GC_Content            3000 non-null   float64\n",
      " 3   AT_Content            3000 non-null   float64\n",
      " 4   Sequence_Length       3000 non-null   float64\n",
      " 5   Num_A                 3000 non-null   float64\n",
      " 6   Num_T                 3000 non-null   float64\n",
      " 7   Num_C                 3000 non-null   float64\n",
      " 8   Num_G                 3000 non-null   float64\n",
      " 9   kmer_3_freq           3000 non-null   float64\n",
      " 10  Mutation_Flag         3000 non-null   float64\n",
      " 11  Disease_Risk          3000 non-null   object \n",
      " 12  Class_Label_Bacteria  3000 non-null   float64\n",
      " 13  Class_Label_Human     3000 non-null   float64\n",
      " 14  Class_Label_Plant     3000 non-null   float64\n",
      " 15  Class_Label_Virus     3000 non-null   float64\n",
      "dtypes: float64(15), object(1)\n",
      "memory usage: 375.1+ KB\n"
     ]
    }
   ],
   "source": [
    "df.info()"
   ]
  },
  {
   "cell_type": "code",
   "execution_count": 214,
   "id": "0e0ed10f",
   "metadata": {},
   "outputs": [],
   "source": [
    "encoder = LabelEncoder()\n",
    "df['Disease_Risk']=encoder.fit_transform(df['Disease_Risk'])"
   ]
  },
  {
   "cell_type": "code",
   "execution_count": 215,
   "id": "87fc377a",
   "metadata": {},
   "outputs": [
    {
     "name": "stdout",
     "output_type": "stream",
     "text": [
      "<class 'pandas.core.frame.DataFrame'>\n",
      "RangeIndex: 3000 entries, 0 to 2999\n",
      "Data columns (total 16 columns):\n",
      " #   Column                Non-Null Count  Dtype  \n",
      "---  ------                --------------  -----  \n",
      " 0   Sample_ID             3000 non-null   float64\n",
      " 1   Sequence              3000 non-null   float64\n",
      " 2   GC_Content            3000 non-null   float64\n",
      " 3   AT_Content            3000 non-null   float64\n",
      " 4   Sequence_Length       3000 non-null   float64\n",
      " 5   Num_A                 3000 non-null   float64\n",
      " 6   Num_T                 3000 non-null   float64\n",
      " 7   Num_C                 3000 non-null   float64\n",
      " 8   Num_G                 3000 non-null   float64\n",
      " 9   kmer_3_freq           3000 non-null   float64\n",
      " 10  Mutation_Flag         3000 non-null   float64\n",
      " 11  Disease_Risk          3000 non-null   int64  \n",
      " 12  Class_Label_Bacteria  3000 non-null   float64\n",
      " 13  Class_Label_Human     3000 non-null   float64\n",
      " 14  Class_Label_Plant     3000 non-null   float64\n",
      " 15  Class_Label_Virus     3000 non-null   float64\n",
      "dtypes: float64(15), int64(1)\n",
      "memory usage: 375.1 KB\n"
     ]
    }
   ],
   "source": [
    "df.info()"
   ]
  },
  {
   "cell_type": "code",
   "execution_count": 216,
   "id": "54d6bfb9",
   "metadata": {},
   "outputs": [
    {
     "data": {
      "application/vnd.microsoft.datawrangler.viewer.v0+json": {
       "columns": [
        {
         "name": "index",
         "rawType": "int64",
         "type": "integer"
        },
        {
         "name": "Disease_Risk",
         "rawType": "int64",
         "type": "integer"
        }
       ],
       "ref": "dc44e606-f826-4b95-bc5e-794dab50c1f1",
       "rows": [
        [
         "0",
         "0"
        ],
        [
         "1",
         "2"
        ],
        [
         "2",
         "1"
        ],
        [
         "3",
         "2"
        ],
        [
         "4",
         "0"
        ],
        [
         "5",
         "1"
        ],
        [
         "6",
         "0"
        ],
        [
         "7",
         "1"
        ],
        [
         "8",
         "1"
        ],
        [
         "9",
         "1"
        ],
        [
         "10",
         "2"
        ],
        [
         "11",
         "2"
        ],
        [
         "12",
         "2"
        ],
        [
         "13",
         "2"
        ],
        [
         "14",
         "2"
        ],
        [
         "15",
         "0"
        ],
        [
         "16",
         "2"
        ],
        [
         "17",
         "0"
        ],
        [
         "18",
         "1"
        ],
        [
         "19",
         "2"
        ],
        [
         "20",
         "1"
        ],
        [
         "21",
         "1"
        ],
        [
         "22",
         "2"
        ],
        [
         "23",
         "1"
        ],
        [
         "24",
         "0"
        ],
        [
         "25",
         "0"
        ],
        [
         "26",
         "0"
        ],
        [
         "27",
         "1"
        ],
        [
         "28",
         "2"
        ],
        [
         "29",
         "0"
        ],
        [
         "30",
         "0"
        ],
        [
         "31",
         "0"
        ],
        [
         "32",
         "2"
        ],
        [
         "33",
         "0"
        ],
        [
         "34",
         "0"
        ],
        [
         "35",
         "1"
        ],
        [
         "36",
         "1"
        ],
        [
         "37",
         "0"
        ],
        [
         "38",
         "0"
        ],
        [
         "39",
         "1"
        ],
        [
         "40",
         "1"
        ],
        [
         "41",
         "2"
        ],
        [
         "42",
         "2"
        ],
        [
         "43",
         "1"
        ],
        [
         "44",
         "2"
        ],
        [
         "45",
         "2"
        ],
        [
         "46",
         "2"
        ],
        [
         "47",
         "1"
        ],
        [
         "48",
         "1"
        ],
        [
         "49",
         "1"
        ]
       ],
       "shape": {
        "columns": 1,
        "rows": 3000
       }
      },
      "text/plain": [
       "0       0\n",
       "1       2\n",
       "2       1\n",
       "3       2\n",
       "4       0\n",
       "       ..\n",
       "2995    2\n",
       "2996    2\n",
       "2997    2\n",
       "2998    2\n",
       "2999    0\n",
       "Name: Disease_Risk, Length: 3000, dtype: int64"
      ]
     },
     "execution_count": 216,
     "metadata": {},
     "output_type": "execute_result"
    }
   ],
   "source": [
    "df['Disease_Risk']"
   ]
  },
  {
   "cell_type": "code",
   "execution_count": 217,
   "id": "c4f841e7",
   "metadata": {},
   "outputs": [],
   "source": [
    "df.to_csv(\"C:/Users/aaa/OneDrive/Desktop/Modular_Project_3/Data/Processed/processed_dataset.csv\", index=False) # datasetni Processed p[apkasiga saqlab olamiz"
   ]
  }
 ],
 "metadata": {
  "kernelspec": {
   "display_name": "myenv",
   "language": "python",
   "name": "python3"
  },
  "language_info": {
   "codemirror_mode": {
    "name": "ipython",
    "version": 3
   },
   "file_extension": ".py",
   "mimetype": "text/x-python",
   "name": "python",
   "nbconvert_exporter": "python",
   "pygments_lexer": "ipython3",
   "version": "3.13.3"
  }
 },
 "nbformat": 4,
 "nbformat_minor": 5
}
